{
 "cells": [
  {
   "cell_type": "markdown",
   "metadata": {},
   "source": [
    "# Recurrent Neural Networks"
   ]
  },
  {
   "cell_type": "markdown",
   "metadata": {},
   "source": [
    "In order to learn how to work with Recurrent Neural Network we will build the ([<b>Character-Level Language Model</b>](http://karpathy.github.io/2015/05/21/rnn-effectiveness/)). Our goal is to train the conditional probability model, which will predict the next character in the sequence given the previous elements: \n",
    "\n",
    "$$P(c_k|\\{c_1,c_2,\\dots,c_{k-1}\\})$$\n"
   ]
  },
  {
   "cell_type": "markdown",
   "metadata": {},
   "source": [
    "We will work on the dataset containing the William Shakespeare playwrights. "
   ]
  },
  {
   "cell_type": "markdown",
   "metadata": {},
   "source": [
    "[![](https://upload.wikimedia.org/wikipedia/commons/a/a2/Shakespeare.jpg)](https://en.wikipedia.org/wiki/William_Shakespeare)"
   ]
  },
  {
   "cell_type": "markdown",
   "metadata": {},
   "source": [
    ">Tomorrow, and tomorrow, and tomorrow,\n",
    "Creeps in this petty pace from day to day,\n",
    "To the last syllable of recorded time;\n",
    "And all our yesterdays have lighted fools\n",
    "The way to dusty death. Out, out, brief candle!\n",
    "Life's but a walking shadow, a poor player\n",
    "That struts and frets his hour upon the stage,\n",
    "And then is heard no more. It is a tale\n",
    "Told by an idiot, full of sound and fury,\n",
    "Signifying nothing.\n",
    "\n",
    "    Macbeth, Act V, scene v."
   ]
  },
  {
   "cell_type": "markdown",
   "metadata": {},
   "source": [
    "Before we start implementing code, let talk about the theory:"
   ]
  },
  {
   "cell_type": "markdown",
   "metadata": {},
   "source": [
    "### Recurrent neural networks"
   ]
  },
  {
   "cell_type": "markdown",
   "metadata": {},
   "source": [
    "- Comparing to the other architectures RNN networks are directed cyclic graphs.\n",
    "- It means that the data could flow in the network not only in one direction - it also could be propagated through neurons in the same layer."
   ]
  },
  {
   "cell_type": "markdown",
   "metadata": {},
   "source": [
    "[![](http://karpathy.github.io/assets/rnn/diags.jpeg)](http://karpathy.github.io/2015/05/21/rnn-effectiveness/)"
   ]
  },
  {
   "cell_type": "markdown",
   "metadata": {},
   "source": [
    "As a result RNNs are perfect tool for our task: "
   ]
  },
  {
   "cell_type": "markdown",
   "metadata": {},
   "source": [
    "[![](http://karpathy.github.io/assets/rnn/charseq.jpeg)](http://karpathy.github.io/2015/05/21/rnn-effectiveness/)"
   ]
  },
  {
   "cell_type": "markdown",
   "metadata": {
    "collapsed": true
   },
   "source": [
    "### Long short-term memory"
   ]
  },
  {
   "cell_type": "markdown",
   "metadata": {
    "collapsed": true
   },
   "source": [
    "The biggest problem with a Recurrent Neural Network architecture is a fact, that the information in the long sequences is often vanishing. If the necessary information is close in the chain, then the model is able to learn the relationships easily:"
   ]
  },
  {
   "cell_type": "markdown",
   "metadata": {
    "collapsed": true
   },
   "source": [
    "[![](http://colah.github.io/posts/2015-08-Understanding-LSTMs/img/RNN-shorttermdepdencies.png)](http://colah.github.io/posts/2015-08-Understanding-LSTMs/)"
   ]
  },
  {
   "cell_type": "markdown",
   "metadata": {
    "collapsed": true
   },
   "source": [
    "But when the gap between the current neuron and the crucial information from past is large, then the network might be unable to learn properly:"
   ]
  },
  {
   "cell_type": "markdown",
   "metadata": {
    "collapsed": true
   },
   "source": [
    "[![](http://colah.github.io/posts/2015-08-Understanding-LSTMs/img/RNN-longtermdependencies.png)](http://colah.github.io/posts/2015-08-Understanding-LSTMs/)"
   ]
  },
  {
   "cell_type": "markdown",
   "metadata": {},
   "source": [
    "To avoid that we must redefine the model. A good solution is to use LSTM layers, which are able to control the flow of information and filter the important data:"
   ]
  },
  {
   "cell_type": "markdown",
   "metadata": {},
   "source": [
    "[![](http://colah.github.io/posts/2015-08-Understanding-LSTMs/img/LSTM3-chain.png)](http://colah.github.io/posts/2015-08-Understanding-LSTMs/)"
   ]
  },
  {
   "cell_type": "markdown",
   "metadata": {},
   "source": [
    "### Alternatives"
   ]
  },
  {
   "cell_type": "markdown",
   "metadata": {},
   "source": [
    "Instead of LSTMs and their [modifications](https://en.wikipedia.org/wiki/Long_short-term_memory) one might use other kinds of RNN layers, e.g.  <b>Gated Recurrent Unit<b> (GRU) networks:\n",
    "    \n",
    "[![](https://upload.wikimedia.org/wikipedia/commons/5/5f/Gated_Recurrent_Unit.svg)](https://en.wikipedia.org/wiki/Gated_recurrent_unit)"
   ]
  },
  {
   "cell_type": "markdown",
   "metadata": {},
   "source": [
    "or more case-specific models, e.g. layers for modelling [time-series.](https://github.com/sdobber/FluxArchitectures)"
   ]
  },
  {
   "cell_type": "markdown",
   "metadata": {},
   "source": [
    "### Implementation"
   ]
  },
  {
   "cell_type": "code",
   "execution_count": 4,
   "metadata": {},
   "outputs": [],
   "source": [
    "using Flux\n",
    "using Flux: onehot, argmax, chunk, batchseq, throttle, crossentropy\n",
    "using StatsBase: wsample\n",
    "using Base.Iterators: partition\n",
    "using BSON"
   ]
  },
  {
   "cell_type": "code",
   "execution_count": 5,
   "metadata": {},
   "outputs": [
    {
     "data": {
      "text/plain": [
       "true"
      ]
     },
     "execution_count": 5,
     "metadata": {},
     "output_type": "execute_result"
    }
   ],
   "source": [
    "isfile(\"shakespeare.txt\") ||\n",
    "        download(\"https://cs.stanford.edu/people/karpathy/char-rnn/shakespeare_input.txt\",\"shakespeare.txt\")"
   ]
  },
  {
   "cell_type": "code",
   "execution_count": 6,
   "metadata": {},
   "outputs": [],
   "source": [
    "text = collect(read(\"shakespeare.txt\",String));\n",
    "alphabet = [unique(text)..., '_'];"
   ]
  },
  {
   "cell_type": "code",
   "execution_count": 7,
   "metadata": {},
   "outputs": [],
   "source": [
    "text = map(ch -> onehot(ch, alphabet), text);\n",
    "stop = onehot('_', alphabet);"
   ]
  },
  {
   "cell_type": "code",
   "execution_count": 8,
   "metadata": {},
   "outputs": [],
   "source": [
    "N = length(alphabet);\n",
    "seqlen = 50;\n",
    "batch_size = 50;"
   ]
  },
  {
   "cell_type": "code",
   "execution_count": 9,
   "metadata": {},
   "outputs": [],
   "source": [
    "Xs = collect(partition(batchseq(chunk(text, batch_size), stop), seqlen));\n",
    "Ys = collect(partition(batchseq(chunk(text[2:end], batch_size), stop), seqlen));"
   ]
  },
  {
   "cell_type": "code",
   "execution_count": 10,
   "metadata": {},
   "outputs": [
    {
     "data": {
      "text/plain": [
       "#4 (generic function with 1 method)"
      ]
     },
     "execution_count": 10,
     "metadata": {},
     "output_type": "execute_result"
    }
   ],
   "source": [
    "m = Chain(\n",
    "    LSTM(N, 128),\n",
    "    LSTM(128, 128),\n",
    "    Dense(128, N),\n",
    "    softmax)\n",
    "\n",
    "function loss(xs, ys)\n",
    "  l = sum(crossentropy.(m.(xs), ys))\n",
    "  #Flux.reset!(m)\n",
    "  return l\n",
    "end\n",
    "\n",
    "opt = ADAM(0.001)\n",
    "\n",
    "\n",
    "function sample(m, alphabet, len; temp = 1)\n",
    "  Flux.reset!(m)\n",
    "  buf = IOBuffer()\n",
    "  c = rand(alphabet)\n",
    "  for i = 1:len\n",
    "    write(buf, c)\n",
    "    c = wsample(alphabet, m(onehot(c, alphabet)))\n",
    "  end\n",
    "  return String(take!(buf))\n",
    "end\n",
    "\n",
    "#evalcb = () -> @show loss(Xs[5], Ys[5])\n",
    "\n",
    "evalcb = function ()\n",
    "    @show loss(Xs[5], Ys[5])\n",
    "    println(sample(m, alphabet, 100))\n",
    "end"
   ]
  },
  {
   "cell_type": "code",
   "execution_count": 11,
   "metadata": {},
   "outputs": [
    {
     "data": {
      "text/plain": [
       "\"?gX.g.'ji F&]O'MV:d]Ilu!?&cHuRmAGBScYnN;ybBD\\n;i-HX\""
      ]
     },
     "execution_count": 11,
     "metadata": {},
     "output_type": "execute_result"
    }
   ],
   "source": [
    "sample(m, alphabet, 50)"
   ]
  },
  {
   "cell_type": "code",
   "execution_count": 12,
   "metadata": {},
   "outputs": [
    {
     "name": "stderr",
     "output_type": "stream",
     "text": [
      "┌ Info: Beginning training loop...\n",
      "└ @ Main In[12]:1\n"
     ]
    },
    {
     "name": "stdout",
     "output_type": "stream",
     "text": [
      "loss(Xs[5], Ys[5]) = 210.26907f0\n"
     ]
    },
    {
     "name": "stderr",
     "output_type": "stream",
     "text": [
      "┌ Info: Epoch: 1\n",
      "└ @ Main In[12]:5\n"
     ]
    },
    {
     "name": "stdout",
     "output_type": "stream",
     "text": [
      "_-j',agmH_DZLfCB&WF X! XmH-RJmvmMGT:!t\n",
      "GQb]!q\n",
      "\n",
      "d$qT;PMDxPq$fjJEi&fJyHo-rjsegzvGiUsdkQjbjvfiFQyb]HwF,\n",
      "loss(Xs[5], Ys[5]) = 140.79349f0\n",
      "wkje\n",
      "fL-sDrAETArIet hih, thes ntontegithe daaon?'jho d nsTne\n",
      "-ut  efesora'wAlinleuicve s nd iwp ah, \n",
      "loss(Xs[5], Ys[5]) = 133.74557f0\n",
      "tDkxF lo a mee!\n",
      "\n",
      "T rITLorounyomeff; athary ewsa mirttalledthct.\n",
      "\n",
      "Th n moullanthsat accithehbatisga,\n",
      "\n",
      "loss(Xs[5], Ys[5]) = 128.492f0\n",
      "wZodbtow t r nt r.\n",
      "\n",
      "'lthimy yhelowitherere, rat yine laly tou! oudd I  nin fht! widcermus; DoI Wa no\n"
     ]
    },
    {
     "name": "stderr",
     "output_type": "stream",
     "text": [
      "┌ Info: New best result: 127.290504\n",
      "└ @ Main In[12]:10\n"
     ]
    },
    {
     "name": "stdout",
     "output_type": "stream",
     "text": [
      "loss(Xs[5], Ys[5]) = 127.23161f0\n",
      "hKmIG?ECEESoHeakt ntH\n",
      "Snb moIs iaves Iipolort onsd fopldk\n",
      "Baivi fall 'y oflekn at cy sow ite th';\n",
      "Oh"
     ]
    },
    {
     "name": "stderr",
     "output_type": "stream",
     "text": [
      "┌ Info: Epoch: 2\n",
      "└ @ Main In[12]:5\n"
     ]
    },
    {
     "name": "stdout",
     "output_type": "stream",
     "text": [
      "\n",
      "loss(Xs[5], Ys[5]) = 124.25264f0\n",
      "XBEedu&e E:\n",
      "Herusireatcod BEnke saw\n",
      "CEYhas vale offle uoplge we nhaavearht' thtirve thts is. The  is\n",
      "loss(Xs[5], Ys[5]) = 121.87672f0\n",
      "CAoMc\n",
      "uoIA:\n",
      "I\n",
      "IAN:\n",
      "H\n",
      "Inatet toECLNR:\n",
      "ToCo r nor  : :\n",
      "I\n",
      "ARR:\n",
      "sn tle:\n",
      "GlA d? duescat,\n",
      "I dEd dodro-d!\n",
      "S\n"
     ]
    },
    {
     "name": "stderr",
     "output_type": "stream",
     "text": [
      "┌ Info: New best result: 120.747314\n",
      "└ @ Main In[12]:10\n",
      "┌ Info: Epoch: 3\n",
      "└ @ Main In[12]:5\n"
     ]
    },
    {
     "name": "stdout",
     "output_type": "stream",
     "text": [
      "loss(Xs[5], Ys[5]) = 120.64483f0\n",
      "F-.Cdt itsengtlede orrast,\n",
      "\n",
      "LUS:\n",
      "No m uchoukngr. oost the y, a  et t reilha llorod the'd the fot hah\n",
      "loss(Xs[5], Ys[5]) = 120.09015f0\n",
      "-lV:RAEEELIUDUMIUI\n",
      "MICIUSe:\n",
      "D:  im uler lislem:  s yout that suahreshart ils pobnteaut l hy-uch. wis\n",
      "loss(Xs[5], Ys[5]) = 121.12598f0\n",
      "st.cnk,\n",
      "Ser,\n",
      "Yimu lousd bn , forir.\n",
      "\n",
      "VIV,-: ! foat our bus rohsed th  erelrany lae berreeike a   ime\n"
     ]
    },
    {
     "name": "stderr",
     "output_type": "stream",
     "text": [
      "┌ Info: New best result: 118.93313\n",
      "└ @ Main In[12]:10\n"
     ]
    },
    {
     "name": "stdout",
     "output_type": "stream",
     "text": [
      "loss(Xs[5], Ys[5]) = "
     ]
    },
    {
     "name": "stderr",
     "output_type": "stream",
     "text": [
      "┌ Info: Epoch: 4\n",
      "└ @ Main In[12]:5\n"
     ]
    },
    {
     "name": "stdout",
     "output_type": "stream",
     "text": [
      "118.866295f0\n",
      "mBefWiRDUGUERESNACEI\n",
      "Amdndnear,, hlee triait racencoas havoulI seust his coan's\n",
      "Somer ' tinohave,\n",
      "Wi\n",
      "loss(Xs[5], Ys[5]) = 118.38793f0\n",
      "cvEyZ-BECENENE:\n",
      " nurstuthre t eross; I wTizlcery me ?\n",
      "Tove sake, it!\n",
      "\n",
      "BINEENE:N: se, oulty uke so ft\n",
      "loss(Xs[5], Ys[5]) = 118.25406f0\n",
      "NHjCy;dvedre?\n",
      "\n",
      "CHUS the rave yold hedianc,\n",
      "CoORO:\n",
      "Fo'loptiot oor meus, w sgught fate I wils youe ae \n"
     ]
    },
    {
     "name": "stderr",
     "output_type": "stream",
     "text": [
      "┌ Info: New best result: 118.34329\n",
      "└ @ Main In[12]:10\n",
      "┌ Info: Epoch: 5\n",
      "└ @ Main In[12]:5\n"
     ]
    },
    {
     "name": "stdout",
     "output_type": "stream",
     "text": [
      "loss(Xs[5], Ys[5]) = 118.00981f0\n",
      "nnvvou nke ll tivowy.\n",
      "K tr dnkea nolu-d our hucoTledt, whate; G;\n",
      "ARAROANY: yhich\n",
      "Lonis eo gablbrareb\n",
      "loss(Xs[5], Ys[5]) = 116.91882f0\n",
      "oVXm:\n",
      ".\n",
      "WOONDULENTDUS:\n",
      "Mu: by fih, have be they the roohelout mor roat tus; I wRoKoulamy tothean;\n",
      "\n",
      "K\n",
      "loss(Xs[5], Ys[5]) = 117.00143f0\n",
      "MOAAJyUEECLEAIO:\n",
      "VLABIOO:\n",
      "Aly.\n",
      "\n",
      "CARY:\n",
      "Ban benqu.\n",
      "\n",
      "THER:\n",
      "A\n",
      "Hy na I ChEARELUS:\n",
      "NG:\n",
      "Chanwiffond of your\n"
     ]
    },
    {
     "name": "stderr",
     "output_type": "stream",
     "text": [
      "┌ Info: New best result: 117.38837\n",
      "└ @ Main In[12]:10\n",
      "┌ Info: Epoch: 6\n",
      "└ @ Main In[12]:5\n"
     ]
    },
    {
     "name": "stdout",
     "output_type": "stream",
     "text": [
      "loss(Xs[5], Ys[5]) = 117.006195f0\n",
      "HQxUie.\n",
      "Smak ce munfsablepCoWhile kes.\n",
      "\n",
      "Hikud knowald would, to molatsrnomy l, mohis sesnodie keF\n",
      "Me\n",
      "loss(Xs[5], Ys[5]) = 116.438484f0\n",
      "NVvr&srlolavezaathin f prell; wheave,-whe d,\n",
      "I, ghat hoakeas, Murrase,\n",
      "ant, cour aleky-r e mas, ast \n",
      "loss(Xs[5], Ys[5]) = 115.44627f0\n",
      "W?SyxFeon,\n",
      "It oigueds a  ae ee earvavevave \n",
      "Ancest in k in ded id; ars  to bureart! 's tharaneeh sho\n"
     ]
    },
    {
     "name": "stderr",
     "output_type": "stream",
     "text": [
      "┌ Info: New best result: 115.94497\n",
      "└ @ Main In[12]:10\n",
      "┌ Info: Epoch: 7\n",
      "└ @ Main In[12]:5\n"
     ]
    },
    {
     "name": "stdout",
     "output_type": "stream",
     "text": [
      "loss(Xs[5], Ys[5]) = 115.857635f0\n",
      "EOk&,eh: shy livenyout hewinbj; ta, bomwicotew. Prem oan wnw imedresI:\n",
      "Leral stohndlY ing icethis th\n",
      "loss(Xs[5], Ys[5]) = 115.767555f0\n",
      "fn:b? wess inh rould al be reartemap best lout ohNTULNR:\n",
      "Gy!arowdstir pill 'erutkeorauphilhe lath\n",
      "IA\n",
      "loss(Xs[5], Ys[5]) = 116.50875f0\n",
      "eTqeieaethersaors mage ciJovithessI toe?\n",
      "\n",
      "KING:\n",
      "That wom tare ith ther the ake eeweldursd\n",
      "Seoinin nu\n"
     ]
    },
    {
     "name": "stderr",
     "output_type": "stream",
     "text": [
      "┌ Info: New best result: 115.55516\n",
      "└ @ Main In[12]:10\n",
      "┌ Info: Epoch: 8\n",
      "└ @ Main In[12]:5\n"
     ]
    },
    {
     "name": "stdout",
     "output_type": "stream",
     "text": [
      "loss(Xs[5], Ys[5]) = 115.4528f0\n",
      "BLdTXOOPHULEL:\n",
      "Vend of whand here to do ogr gds! bikin, that I weeellerst tae_emensoMerPIARO:\n",
      "Fou an\n",
      "loss(Xs[5], Ys[5]) = 115.049385f0\n",
      "y$hLSLOUCUOCAXAUFALV:\n",
      "Thw's do, be the a a fea l'lit, le theadnt tiall the ch 'lithae  uklkekne trut\n",
      "loss(Xs[5], Ys[5]) = 114.756256f0\n",
      "oUugS t: I'ld; Tordicerelfor my to draink the wayour latcone you be wayour st:\n",
      "Romess; Naingeay yes.\n"
     ]
    },
    {
     "name": "stderr",
     "output_type": "stream",
     "text": [
      "┌ Info: New best result: 115.53883\n",
      "└ @ Main In[12]:10\n"
     ]
    },
    {
     "name": "stdout",
     "output_type": "stream",
     "text": [
      "loss(Xs[5], Ys[5]) = 115.15686f0\n"
     ]
    },
    {
     "name": "stderr",
     "output_type": "stream",
     "text": [
      "┌ Info: Epoch: 9\n",
      "└ @ Main In[12]:5\n"
     ]
    },
    {
     "name": "stdout",
     "output_type": "stream",
     "text": [
      ":efirfVies 's\n",
      "ichman you san; shat I be m knot ,\n",
      "Atrid dojarlenses s ead retfus con eis, be me ontow\n",
      "loss(Xs[5], Ys[5]) = 112.95219f0\n",
      "eQzVya-rincerty ty my bes.\n",
      "\n",
      "PAMTratlay.\n",
      "\n",
      "FGraaty you coP't that!\n",
      "\n",
      "Whends; I ampy cdatss ing fand cur\n",
      "loss(Xs[5], Ys[5]) = 113.879715f0\n",
      "Ob!mxgttse.\n",
      "\n",
      "A\n",
      "To:\n",
      "Whe naweffeaft to tus\n",
      "And in ohe , and thmave eeeoom I :\n",
      "DUFFVYHANTINGIUADEMAR:T:\n"
     ]
    },
    {
     "name": "stderr",
     "output_type": "stream",
     "text": [
      "┌ Info: New best result: 113.57079\n",
      "└ @ Main In[12]:10\n",
      "┌ Info: Epoch: 10\n",
      "└ @ Main In[12]:5\n"
     ]
    },
    {
     "name": "stdout",
     "output_type": "stream",
     "text": [
      "loss(Xs[5], Ys[5]) = 113.38351f0\n",
      "S! dRURDUTURCANOS::\n",
      "Heentsgestermague .\n",
      "\n",
      "MARIn ay till motire his nint  to  whobe you he 't to fover\n",
      "loss(Xs[5], Ys[5]) = 112.11329f0\n",
      "WIMMUKNENLLLMENCAND:\n",
      "Cioluporaby peice:\n",
      "DfIETTIRIBRLACFereac cehim nher me r.\n",
      " er wast aewe-worn the\n",
      "loss(Xs[5], Ys[5]) = 112.65717f0\n",
      "xlKLTTooor:\n",
      "Mak it wowe. five honcen weumes sheo but say luphy Py unh neam\n",
      "And\n",
      "Whereyainterlagd on:\n",
      "\n"
     ]
    },
    {
     "name": "stderr",
     "output_type": "stream",
     "text": [
      "┌ Info: New best result: 112.983215\n",
      "└ @ Main In[12]:10\n"
     ]
    },
    {
     "name": "stdout",
     "output_type": "stream",
     "text": [
      "loss(Xs[5], Ys[5]) = "
     ]
    },
    {
     "name": "stderr",
     "output_type": "stream",
     "text": [
      "┌ Info: Epoch: 11\n",
      "└ @ Main In[12]:5\n"
     ]
    },
    {
     "name": "stdout",
     "output_type": "stream",
     "text": [
      "112.98211f0\n",
      "fMvRES'TON:\n",
      "And forf.\n",
      "\n",
      "MAS:\n",
      "SIR:\n",
      "DO:\n",
      "Hetve: be, your'd Jyullifsesare ours?\n",
      "\n",
      "MASTEUSES:\n",
      "Aomern thendn\n",
      "loss(Xs[5], Ys[5]) = 112.85176f0\n",
      "At;CTURRNRDWeTare mok:\n",
      "Harint ia the she- con tlo? ood fid cat you n that bingericalnot could I dom,\n",
      "loss(Xs[5], Ys[5]) = 113.65882f0\n",
      "WS XERVUXYisp stikut rraverahip'd son, bihmeny cour, then's dehat uupureato m thonoher Anwill cam ah\n",
      "loss(Xs[5], Ys[5]) = 113.765854f0\n"
     ]
    },
    {
     "name": "stderr",
     "output_type": "stream",
     "text": [
      "┌ Info: Epoch: 12\n",
      "└ @ Main In[12]:5\n"
     ]
    },
    {
     "name": "stdout",
     "output_type": "stream",
     "text": [
      "EYChDTNRRSS oo your pand guit,\n",
      "How waide;\n",
      "Wis I daears minness, my kientohould thI I. BOTONI:\n",
      "Whoano\n",
      "loss(Xs[5], Ys[5]) = 113.66607f0\n",
      "QCKlGDCNNREY:\n",
      "Sirthare.\n",
      "\n",
      "HENDY:\n",
      "Pneous upcM y; and ffied on tess all do t\n",
      "I ks my mond Pickerempep\n",
      "T\n",
      "loss(Xs[5], Ys[5]) = 114.307655f0\n",
      "vdRYMOLULPEUEUS:\n",
      "How raed for\n",
      "cims en netainloto\n",
      "loide etemy:\n",
      "Ny life I,\n",
      "I stin love,\n",
      "Uhear no ive!\n",
      "\n"
     ]
    },
    {
     "name": "stderr",
     "output_type": "stream",
     "text": [
      "┌ Info: Epoch: 13\n",
      "└ @ Main In[12]:5\n"
     ]
    },
    {
     "name": "stdout",
     "output_type": "stream",
     "text": [
      "loss(Xs[5], Ys[5]) = 112.63388f0\n",
      "-l-e ts vatank in alansea'weath se?\n",
      "Herecear sour that efed your sree aw the eeld,\n",
      "So lthend be to. \n",
      "loss(Xs[5], Ys[5]) = 112.190094f0\n",
      "[CNRXZOXONOUCAGTHION:\n",
      "Fvafas ustirit and woand own on hou ver hour, iwn gw of havis ass; wWe. Yeumu \n",
      "loss(Xs[5], Ys[5]) = 112.91159f0\n",
      "3IXO,-ANEN:\n",
      "IHE:\n",
      "Grayiest.\n",
      "\n",
      "LEO:\n",
      "I\n",
      "Cife leay,\n",
      "Oduand So les queger'tele themeelf ththY y ady shing s\n"
     ]
    },
    {
     "name": "stderr",
     "output_type": "stream",
     "text": [
      "┌ Info: New best result: 112.05367\n",
      "└ @ Main In[12]:10\n",
      "┌ Info: Epoch: 14\n",
      "└ @ Main In[12]:5\n"
     ]
    },
    {
     "name": "stdout",
     "output_type": "stream",
     "text": [
      "loss(Xs[5], Ys[5]) = 111.80379f0\n",
      "Co?grots of wy lCyou do o poor is gegep to , the t, Lot iok cathis and herrirs; wheris sardites;.\n",
      "Yo\n",
      "loss(Xs[5], Ys[5]) = 111.137276f0\n",
      "eR.O TOLLUS:\n",
      "Is hinr is ne king e tale, have shat his sts ow cre ian ko. heo\n",
      "so, I 'd those ce poor \n",
      "loss(Xs[5], Ys[5]) = 111.96159f0\n",
      "h'NNFLOLEWAR:\n",
      "The krow\n",
      "Ufor'd y,\n",
      "HoSs kore spere, the of At beatustmay w orse syou, nithemUE MENGAST\n"
     ]
    },
    {
     "name": "stderr",
     "output_type": "stream",
     "text": [
      "┌ Info: New best result: 111.390236\n",
      "└ @ Main In[12]:10\n",
      "┌ Info: Epoch: 15\n",
      "└ @ Main In[12]:5\n"
     ]
    },
    {
     "name": "stdout",
     "output_type": "stream",
     "text": [
      "loss(Xs[5], Ys[5]) = 111.099945f0\n",
      "w&&'TSION:\n",
      "EfVINONANEAR:\n",
      "I, seve,\n",
      "Dom; duar.\n",
      "By wher ske would discut wherinte,\n",
      "And,\n",
      "Brarcom Kweidai\n",
      "loss(Xs[5], Ys[5]) = 111.38456f0\n",
      "KX sohe us, seing hhono noorlcontratit. Mow.\n",
      "IfA: iongue sart s are wit et me: tule\n",
      "bir I feat of ko\n",
      "loss(Xs[5], Ys[5]) = 112.10567f0\n",
      "A\n",
      "yTUUEULES IANTINUDRou them mards,\n",
      "Dain! I\n",
      "KE:\n",
      "YoSsto pranfiges thct yer yeoum na thand mutdervomia\n",
      "loss(Xs[5], Ys[5]) = 111.53358f0\n",
      "-vygtr my igh, iheing?\n",
      "\n",
      "VINALCATHANC:\n",
      "Fow four e sight be hay ankw?\n",
      "\n",
      "Go roughpsuld that me, not to i\n"
     ]
    },
    {
     "name": "stderr",
     "output_type": "stream",
     "text": [
      "┌ Info: Epoch: 16\n",
      "└ @ Main In[12]:5\n"
     ]
    },
    {
     "name": "stdout",
     "output_type": "stream",
     "text": [
      "loss(Xs[5], Ys[5]) = 111.394775f0\n",
      "kio:vorut oodere, my tore. FrRUS:\n",
      "For youd aid is bent's\n",
      "Ubrove congood ikeexevar wich,\n",
      "With;\n",
      "Mot to\n",
      "loss(Xs[5], Ys[5]) = 110.46626f0\n",
      ".TBAXUUSUGESPES:\n",
      "Yow hereay hoicicnyaise whrll thin?\n",
      "\n",
      "set ir dut of mees,\n",
      "That oulrantlyould's will \n"
     ]
    },
    {
     "name": "stderr",
     "output_type": "stream",
     "text": [
      "┌ Info: New best result: 110.00627\n",
      "└ @ Main In[12]:10\n",
      "┌ Info: Epoch: 17\n",
      "└ @ Main In[12]:5\n"
     ]
    },
    {
     "name": "stdout",
     "output_type": "stream",
     "text": [
      "loss(Xs[5], Ys[5]) = 110.09074f0\n",
      " ]b?? bol voilgrided.\n",
      "\n",
      "DRON Aajenbay him all.\n",
      "\n",
      "OAND:\n",
      "\n",
      "PRELLO OGARINRe, seomes ofrer; minatpred--ant \n",
      "loss(Xs[5], Ys[5]) = 110.44085f0\n",
      "!_a-sknt me and don  her crerryee stris all not knerpuchgrance the d's raseem al,\n",
      "Fut cisce him'd Eu\n",
      "loss(Xs[5], Ys[5]) = 110.49591f0\n",
      "h;:NENSSUCSNUS Tyou shout.\n",
      "\n",
      "MAPANE:\n",
      "Dor vas, band notd fuch a chen sou s habfaye pore gid.\n",
      "\n",
      "Hastelm \n"
     ]
    },
    {
     "name": "stderr",
     "output_type": "stream",
     "text": [
      "┌ Info: New best result: 109.6932\n",
      "└ @ Main In[12]:10\n",
      "┌ Info: Epoch: 18\n",
      "└ @ Main In[12]:5\n"
     ]
    },
    {
     "name": "stdout",
     "output_type": "stream",
     "text": [
      "loss(Xs[5], Ys[5]) = 109.918594f0\n",
      "G\n",
      "lCAIOLALE but yehe lord hnuse!\n",
      "\n",
      "JOAPATRAMINCEO:\n",
      "No, ch it wesns; if?\n",
      "\n",
      "SeicucW:\n",
      "I droubrer S:\n",
      "Han! \n",
      "loss(Xs[5], Ys[5]) = 111.156044f0\n",
      "!ZYSlllls st mors!\n",
      "I mibehaike hild. wing glaskvee\n",
      "HoJOLsthes the hen have,\n",
      "By for furessinme dris t\n",
      "loss(Xs[5], Ys[5]) = 113.43023f0\n",
      "bA;\n",
      "I: yoHow lame night, harmHATRAERESTENNTIUS POROCPOOS, I mad, A:\n",
      "Poobd\n",
      "The imy, ticlempleied thou\n",
      "loss(Xs[5], Ys[5]) = 112.47122f0\n",
      "pCB: igniong\n",
      "glook thust ptnow f f me pprave's paremerthve niteowefuet-yas and.\n",
      "\n",
      "CT ARYRADA:\n",
      "Yetsear\n"
     ]
    },
    {
     "name": "stderr",
     "output_type": "stream",
     "text": [
      "┌ Info: Epoch: 19\n",
      "└ @ Main In[12]:5\n"
     ]
    },
    {
     "name": "stdout",
     "output_type": "stream",
     "text": [
      "loss(Xs[5], Ys[5]) = 113.389824f0\n",
      "dcaqls yis tlit that.\n",
      "'f's the aturint, from Gthy ge sene tr-f thine, the\n",
      "Dor. seing timy guing you.\n",
      "loss(Xs[5], Ys[5]) = 111.965996f0\n",
      "UtFHD:\n",
      "Weed, thy Save my!\n",
      "Go d trawt you betendewaravggronearmaly e that by torks tade,\n",
      "Yamuist, inf\n",
      "loss(Xs[5], Ys[5]) = 111.046684f0\n",
      "wrSzCO:\n",
      "Hyorest thedhaves,\n",
      "ApoF ak, do wst; sbabraGusearhall ho\n",
      "FANININONA:\n",
      "That ver now des you.\n",
      "ra\n"
     ]
    },
    {
     "name": "stderr",
     "output_type": "stream",
     "text": [
      "┌ Info: Epoch: 20\n",
      "└ @ Main In[12]:5\n"
     ]
    },
    {
     "name": "stdout",
     "output_type": "stream",
     "text": [
      "loss(Xs[5], Ys[5]) = 110.12025f0\n",
      "RM_. ! father shek to lleaid As, sb haibenthould,\n",
      "\n",
      "ROLLINGil,\n",
      "Wher  fachim,  ed hithose with -re woa\n",
      "loss(Xs[5], Ys[5]) = 109.479065f0\n",
      "3AXorinlI oo, ce,\n",
      "Hace yhhs fpliit. and arying of righoughs havesepiredrep the ban's-ned.\n",
      "To GRHAMAE\n",
      "loss(Xs[5], Ys[5]) = 111.197495f0\n",
      "Jtatdcbed we pordadith thou deatraraconjage shou bever Pesee;\n",
      "\n",
      "KIUF IA:\n",
      "Thes seart, Thatrved the seo\n"
     ]
    },
    {
     "name": "stderr",
     "output_type": "stream",
     "text": [
      "┌ Warning:  -> We're calling this converged.\n",
      "└ @ Main In[12]:16\n"
     ]
    }
   ],
   "source": [
    "@info(\"Beginning training loop...\")\n",
    "best_ls = Inf\n",
    "last_improvement = 0\n",
    "for epoch = 1:50\n",
    "    @info \"Epoch: $epoch\"\n",
    "    global best_ls, last_improvement\n",
    "    Flux.train!(loss, params(m), zip(Xs, Ys), opt, cb=throttle(evalcb, 240))\n",
    "    ls = loss(Xs[5], Ys[5])\n",
    "    if ls <= best_ls\n",
    "        @info \"New best result: $ls\"\n",
    "        BSON.@save \"char_model_EN.bson\" m\n",
    "        best_ls = ls\n",
    "        last_improvement = epoch\n",
    "    end\n",
    "    if epoch - last_improvement >= 3\n",
    "        @warn(\" -> We're calling this converged.\")\n",
    "        break\n",
    "    end\n",
    "end"
   ]
  },
  {
   "cell_type": "code",
   "execution_count": 13,
   "metadata": {},
   "outputs": [],
   "source": [
    "BSON.@load \"char_model_EN.bson\" m"
   ]
  },
  {
   "cell_type": "code",
   "execution_count": 25,
   "metadata": {},
   "outputs": [
    {
     "name": "stdout",
     "output_type": "stream",
     "text": [
      " Lt.\n",
      "Yo,  ove and faue go epauand I sam,\n",
      "With but at aus.\n",
      "Yorcomt air ghis strtlb ysy n mace in falt"
     ]
    }
   ],
   "source": [
    "print(sample(m, alphabet, 100))"
   ]
  },
  {
   "cell_type": "markdown",
   "metadata": {},
   "source": [
    "## Extra Homework"
   ]
  },
  {
   "cell_type": "markdown",
   "metadata": {},
   "source": [
    "Improve the quality of presented example <b>(5 points)</b>."
   ]
  }
 ],
 "metadata": {
  "@webio": {
   "lastCommId": null,
   "lastKernelId": null
  },
  "kernelspec": {
   "display_name": "Julia 1.5.2",
   "language": "julia",
   "name": "julia-1.5"
  },
  "language_info": {
   "file_extension": ".jl",
   "mimetype": "application/julia",
   "name": "julia",
   "version": "1.5.2"
  }
 },
 "nbformat": 4,
 "nbformat_minor": 2
}
